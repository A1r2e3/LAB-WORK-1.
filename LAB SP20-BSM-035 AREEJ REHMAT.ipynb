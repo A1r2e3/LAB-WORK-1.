{
 "cells": [
  {
   "cell_type": "code",
   "execution_count": 17,
   "id": "7e0a20d5",
   "metadata": {},
   "outputs": [],
   "source": [
    "import numpy as np\n",
    "import matplotlib.pyplot as plt"
   ]
  },
  {
   "cell_type": "code",
   "execution_count": 18,
   "id": "d15ab75d",
   "metadata": {},
   "outputs": [],
   "source": [
    "c1 = np.array ([10,12,14,16,18])"
   ]
  },
  {
   "cell_type": "code",
   "execution_count": 19,
   "id": "e0dbd52a",
   "metadata": {},
   "outputs": [
    {
     "data": {
      "text/plain": [
       "array([10, 12, 14, 16, 18])"
      ]
     },
     "execution_count": 19,
     "metadata": {},
     "output_type": "execute_result"
    }
   ],
   "source": [
    "c1"
   ]
  },
  {
   "cell_type": "code",
   "execution_count": 20,
   "id": "79755952",
   "metadata": {},
   "outputs": [
    {
     "data": {
      "text/plain": [
       "array([30, 36, 42, 48, 54])"
      ]
     },
     "execution_count": 20,
     "metadata": {},
     "output_type": "execute_result"
    }
   ],
   "source": [
    "c1*3"
   ]
  },
  {
   "cell_type": "code",
   "execution_count": 21,
   "id": "a02387be",
   "metadata": {},
   "outputs": [],
   "source": [
    "b2 = np.zeros(20)"
   ]
  },
  {
   "cell_type": "code",
   "execution_count": 22,
   "id": "530afa49",
   "metadata": {},
   "outputs": [
    {
     "data": {
      "text/plain": [
       "array([0., 0., 0., 0., 0., 0., 0., 0., 0., 0., 0., 0., 0., 0., 0., 0., 0.,\n",
       "       0., 0., 0.])"
      ]
     },
     "execution_count": 22,
     "metadata": {},
     "output_type": "execute_result"
    }
   ],
   "source": [
    "b2"
   ]
  },
  {
   "cell_type": "code",
   "execution_count": 44,
   "id": "58362604",
   "metadata": {},
   "outputs": [],
   "source": [
    "x = np.linspace(-4,4,30)"
   ]
  },
  {
   "cell_type": "code",
   "execution_count": 49,
   "id": "d7b0e333",
   "metadata": {},
   "outputs": [
    {
     "data": {
      "text/plain": [
       "array([-4.        , -3.72413793, -3.44827586, -3.17241379, -2.89655172,\n",
       "       -2.62068966, -2.34482759, -2.06896552, -1.79310345, -1.51724138,\n",
       "       -1.24137931, -0.96551724, -0.68965517, -0.4137931 , -0.13793103,\n",
       "        0.13793103,  0.4137931 ,  0.68965517,  0.96551724,  1.24137931,\n",
       "        1.51724138,  1.79310345,  2.06896552,  2.34482759,  2.62068966,\n",
       "        2.89655172,  3.17241379,  3.44827586,  3.72413793,  4.        ])"
      ]
     },
     "execution_count": 49,
     "metadata": {},
     "output_type": "execute_result"
    }
   ],
   "source": [
    "x"
   ]
  },
  {
   "cell_type": "code",
   "execution_count": 37,
   "id": "6c805de3",
   "metadata": {},
   "outputs": [],
   "source": [
    "x1 = np.arange (5,10,0.5)"
   ]
  },
  {
   "cell_type": "code",
   "execution_count": 32,
   "id": "39a91e9e",
   "metadata": {},
   "outputs": [
    {
     "data": {
      "text/plain": [
       "array([5. , 5.5, 6. , 6.5, 7. , 7.5, 8. , 8.5, 9. , 9.5])"
      ]
     },
     "execution_count": 32,
     "metadata": {},
     "output_type": "execute_result"
    }
   ],
   "source": [
    "x1"
   ]
  },
  {
   "cell_type": "code",
   "execution_count": 39,
   "id": "65ec8770",
   "metadata": {},
   "outputs": [
    {
     "data": {
      "text/plain": [
       "range(0, 20)"
      ]
     },
     "execution_count": 39,
     "metadata": {},
     "output_type": "execute_result"
    }
   ],
   "source": [
    "a = (20)\n",
    "range(20)"
   ]
  },
  {
   "cell_type": "code",
   "execution_count": 40,
   "id": "fe302a89",
   "metadata": {},
   "outputs": [
    {
     "name": "stdout",
     "output_type": "stream",
     "text": [
      "0\n",
      "1\n",
      "2\n",
      "3\n",
      "4\n",
      "5\n",
      "6\n",
      "7\n",
      "8\n",
      "9\n",
      "10\n",
      "11\n",
      "12\n",
      "13\n",
      "14\n",
      "15\n",
      "16\n",
      "17\n",
      "18\n",
      "19\n"
     ]
    }
   ],
   "source": [
    "for i in range (a):\n",
    "        print(i)"
   ]
  },
  {
   "cell_type": "code",
   "execution_count": 52,
   "id": "1d678ebf",
   "metadata": {},
   "outputs": [],
   "source": [
    "x=y**2"
   ]
  },
  {
   "cell_type": "code",
   "execution_count": 53,
   "id": "717463a0",
   "metadata": {},
   "outputs": [
    {
     "name": "stdout",
     "output_type": "stream",
     "text": [
      "[  0.           0.27700831   1.10803324   2.49307479   4.43213296\n",
      "   6.92520776   9.97229917  13.5734072   17.72853186  22.43767313\n",
      "  27.70083102  33.51800554  39.88919668  46.81440443  54.29362881\n",
      "  62.32686981  70.91412742  80.05540166  89.75069252 100.        ]\n"
     ]
    }
   ],
   "source": [
    "print(x)"
   ]
  },
  {
   "cell_type": "code",
   "execution_count": 55,
   "id": "752d7909",
   "metadata": {},
   "outputs": [],
   "source": [
    "x= np.sqrt (y)"
   ]
  },
  {
   "cell_type": "code",
   "execution_count": 56,
   "id": "ab05826a",
   "metadata": {},
   "outputs": [
    {
     "name": "stdout",
     "output_type": "stream",
     "text": [
      "[0.         0.72547625 1.02597835 1.25656172 1.4509525  1.62221421\n",
      " 1.77704663 1.91942974 2.0519567  2.17642875 2.29415734 2.40613252\n",
      " 2.51312345 2.61574182 2.71448357 2.80975743 2.901905   2.99121521\n",
      " 3.07793506 3.16227766]\n"
     ]
    }
   ],
   "source": [
    "print(x)"
   ]
  },
  {
   "cell_type": "code",
   "execution_count": 57,
   "id": "cd44a35c",
   "metadata": {},
   "outputs": [],
   "source": [
    "t=x+y"
   ]
  },
  {
   "cell_type": "code",
   "execution_count": 58,
   "id": "b33663d0",
   "metadata": {},
   "outputs": [
    {
     "name": "stdout",
     "output_type": "stream",
     "text": [
      "[ 0.          1.25179204  2.07860993  2.83550909  3.55621566  4.25379316\n",
      "  4.93494137  5.60364027  6.26248302  6.91327086  7.55731523  8.1956062\n",
      "  8.82891292  9.45784708 10.08290462 10.70449428 11.32295763 11.93858363\n",
      " 12.55161927 13.16227766]\n"
     ]
    }
   ],
   "source": [
    "print(t)"
   ]
  },
  {
   "cell_type": "code",
   "execution_count": 63,
   "id": "69e39dcd",
   "metadata": {},
   "outputs": [],
   "source": [
    "p=x*y"
   ]
  },
  {
   "cell_type": "code",
   "execution_count": 64,
   "id": "88fc4c60",
   "metadata": {},
   "outputs": [
    {
     "name": "stdout",
     "output_type": "stream",
     "text": [
      "[ 0.          0.38182961  1.07997721  1.98404483  3.05463684  4.26898477\n",
      "  5.61172621  7.07158325  8.6398177  10.30939934 12.07451231 13.93024088\n",
      " 15.87235863 17.89718087 20.00145789 22.18229554 24.43709474 26.76350449\n",
      " 29.15938474 31.6227766 ]\n"
     ]
    }
   ],
   "source": [
    "print(p)"
   ]
  },
  {
   "cell_type": "code",
   "execution_count": null,
   "id": "2ce670b3",
   "metadata": {},
   "outputs": [],
   "source": []
  }
 ],
 "metadata": {
  "kernelspec": {
   "display_name": "Python 3 (ipykernel)",
   "language": "python",
   "name": "python3"
  },
  "language_info": {
   "codemirror_mode": {
    "name": "ipython",
    "version": 3
   },
   "file_extension": ".py",
   "mimetype": "text/x-python",
   "name": "python",
   "nbconvert_exporter": "python",
   "pygments_lexer": "ipython3",
   "version": "3.9.7"
  }
 },
 "nbformat": 4,
 "nbformat_minor": 5
}
